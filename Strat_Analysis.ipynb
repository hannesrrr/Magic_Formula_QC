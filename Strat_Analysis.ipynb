{
 "cells": [
  {
   "cell_type": "code",
   "execution_count": 181,
   "metadata": {},
   "outputs": [],
   "source": [
    "import json\n",
    "import matplotlib.pyplot as plt\n",
    "import pandas as pd\n",
    "import numpy as np\n",
    "from datetime import datetime\n",
    "from empyrical.utils import nanmean, nanstd\n",
    "from datetime import timedelta\n",
    "import numpy as np\n",
    "import yfinance as yf\n",
    "import pandas as pd\n",
    "from sklearn.cluster import KMeans\n",
    "import matplotlib.pyplot as plt\n",
    "import pandas_datareader.data as web\n",
    "from datetime import timedelta\n",
    "import plotly.express as px\n",
    "from sklearn.preprocessing import StandardScaler\n",
    "from sklearn_som.som import SOM\n",
    "\n"
   ]
  },
  {
   "cell_type": "code",
   "execution_count": 182,
   "metadata": {},
   "outputs": [],
   "source": [
    "file = '/Users/hannes/Downloads/540136b93e7be9e7b2edabcebb808dd8.json'\n",
    "with open(file) as f:  \n",
    "    data = json.load(f)"
   ]
  },
  {
   "cell_type": "code",
   "execution_count": 183,
   "metadata": {},
   "outputs": [],
   "source": [
    "x_items = []\n",
    "y_items = []\n",
    "for item in data['Charts']['Strategy Equity']['Series']['Equity']['Values']:\n",
    "    x_items.append(item['x'])\n",
    "    y_items.append(item['y'])\n",
    "\n",
    "x_items_b = []\n",
    "y_items_b = []\n",
    "for item in data['Charts']['Benchmark']['Series']['Benchmark']['Values']:\n",
    "    x_items_b.append(item['x'])\n",
    "    y_items_b.append(item['y'])\n",
    "\n",
    "x_items = [datetime.fromtimestamp(x) for x in x_items]\n",
    "x_items_b = [datetime.fromtimestamp(x) for x in x_items_b]"
   ]
  },
  {
   "cell_type": "code",
   "execution_count": 184,
   "metadata": {},
   "outputs": [],
   "source": [
    "strat_df = pd.DataFrame(y_items, index = x_items, columns = ['Strategy'])\n",
    "bench_df = pd.DataFrame(y_items_b, index = x_items_b, columns = ['Benchmark'])\n",
    "\n",
    "# Get first and last dates\n",
    "strat_rtns = strat_df.pct_change().dropna()\n",
    "min_date = strat_rtns[strat_rtns['Strategy'] != 0].index.min() - timedelta(days=1)\n",
    "max_date = strat_rtns.index.max()\n",
    "\n",
    "# Have same starting point for both\n",
    "strat_df = strat_df[min_date:]\n",
    "bench_df = bench_df[min_date:]\n",
    "\n",
    "# Resample to daily data \n",
    "strat_df = strat_df.resample('D').last()\n",
    "bench_df = bench_df.resample('D').last()"
   ]
  },
  {
   "cell_type": "code",
   "execution_count": 185,
   "metadata": {},
   "outputs": [],
   "source": [
    "def calc_sharpe(df: pd.DataFrame) -> float:\n",
    "    '''\n",
    "    Sharpe Ratio = ( returns(p) - returns(f) )/ standard deviation(p)\n",
    "    where rf = 0\n",
    "    '''\n",
    "    df_temp = df.copy()\n",
    "    df_temp['rtns'] = df_temp.pct_change()\n",
    "    sharpe = df_temp['rtns'].mean() / df_temp['rtns'].std()\n",
    "    return sharpe * np.sqrt(252)"
   ]
  },
  {
   "cell_type": "code",
   "execution_count": 186,
   "metadata": {},
   "outputs": [],
   "source": [
    "def calc_sortino(df: pd.DataFrame) -> float:\n",
    "    '''\n",
    "    Sorting Ratio = ( returns(p) - returns(f) )/ standard deviation(p) of negative returns\n",
    "    where rf = 0\n",
    "    '''\n",
    "    df_temp = df.copy()\n",
    "    df_temp['rtns'] = df_temp.pct_change()\n",
    "    sharpe = df_temp['rtns'].mean() / df_temp['rtns'][df_temp['rtns'] <0].std()\n",
    "    return sharpe * np.sqrt(252)"
   ]
  },
  {
   "cell_type": "code",
   "execution_count": 187,
   "metadata": {},
   "outputs": [],
   "source": [
    "def max_drawdown(df: pd.DataFrame) -> float:\n",
    "    rtns = df.pct_change()\n",
    "    series = rtns.iloc[:,0]\n",
    "    cum_ret = (series+1).cumprod()\n",
    "    peak = cum_ret.expanding(min_periods=1).max()\n",
    "    dd = (cum_ret/peak)-1\n",
    "    return dd.min()"
   ]
  },
  {
   "cell_type": "code",
   "execution_count": 188,
   "metadata": {},
   "outputs": [],
   "source": [
    "def compute_regimes(start_date, end_date, k=8):\n",
    "    print(start_date, end_date)\n",
    "    nasdaq = web.DataReader('NASDAQCOM', \"fred\", start_date, end_date).dropna().resample('W').last() \n",
    "    nasdaq2= nasdaq.pct_change(periods=4)[1:] # compute weekly returns\n",
    "    infl=web.DataReader('CPIAUCSL', \"fred\", start_date, end_date).dropna()\n",
    "    infl2=infl.pct_change(periods=12)[1:] # inflation wrt prior year\n",
    "    infl3=infl2.dropna().resample('W').mean().interpolate() # resample to weekly data\n",
    "    int_rate=web.DataReader('DFF', \"fred\", start_date, end_date).dropna()\n",
    "    int_rate2=int_rate.resample('W').mean() # resample to weekly data\n",
    "\n",
    "    aux=nasdaq2\n",
    "    aux['INFLATION']=infl3\n",
    "    aux['INTEREST_R']=int_rate2\n",
    "    aux=aux.dropna()\n",
    "\n",
    "    scaler = StandardScaler() # scale data to std normal\n",
    "    scaler.fit(aux)\n",
    "    norm_data=pd.DataFrame(scaler.transform(aux),index=aux.index,columns=aux.columns)\n",
    "\n",
    "    som = SOM(m=k, n=1, dim=norm_data.shape[1]) # Self-Organising Map\n",
    "    som.fit(norm_data.to_numpy())\n",
    "    hs = som.predict(norm_data.to_numpy())\n",
    "    st = pd.DataFrame(hs,index=norm_data.index)\n",
    "    data = pd.concat([norm_data,st],axis=1,sort='False').dropna()\n",
    "    data.rename(columns={0:'REGIME'}, inplace=True)\n",
    "    return data\n"
   ]
  },
  {
   "cell_type": "code",
   "execution_count": 189,
   "metadata": {},
   "outputs": [
    {
     "name": "stdout",
     "output_type": "stream",
     "text": [
      "2015-02-26 2022-10-15\n"
     ]
    },
    {
     "name": "stderr",
     "output_type": "stream",
     "text": [
      "/var/folders/5r/3sxxysys3kb_pxzpp4npjd9h0000gn/T/ipykernel_2253/490563439.py:24: FutureWarning: Passing non boolean values for sort is deprecated and will error in a future version!\n",
      "  data = pd.concat([norm_data,st],axis=1,sort='False').dropna()\n"
     ]
    }
   ],
   "source": [
    "regimes = compute_regimes(start_date=(min_date - timedelta(days=400)).strftime(\"%Y-%m-%d\"), end_date=max_date.strftime(\"%Y-%m-%d\"))"
   ]
  },
  {
   "cell_type": "code",
   "execution_count": 200,
   "metadata": {},
   "outputs": [
    {
     "data": {
      "text/html": [
       "<div>\n",
       "<style scoped>\n",
       "    .dataframe tbody tr th:only-of-type {\n",
       "        vertical-align: middle;\n",
       "    }\n",
       "\n",
       "    .dataframe tbody tr th {\n",
       "        vertical-align: top;\n",
       "    }\n",
       "\n",
       "    .dataframe thead th {\n",
       "        text-align: right;\n",
       "    }\n",
       "</style>\n",
       "<table border=\"1\" class=\"dataframe\">\n",
       "  <thead>\n",
       "    <tr style=\"text-align: right;\">\n",
       "      <th></th>\n",
       "      <th>REGIME</th>\n",
       "      <th>Strategy</th>\n",
       "      <th>rtns</th>\n",
       "    </tr>\n",
       "  </thead>\n",
       "  <tbody>\n",
       "    <tr>\n",
       "      <th>2016-04-02</th>\n",
       "      <td>4.0</td>\n",
       "      <td>1.000949</td>\n",
       "      <td>0.000949</td>\n",
       "    </tr>\n",
       "    <tr>\n",
       "      <th>2016-04-03</th>\n",
       "      <td>4.0</td>\n",
       "      <td>1.000949</td>\n",
       "      <td>0.000000</td>\n",
       "    </tr>\n",
       "    <tr>\n",
       "      <th>2016-04-04</th>\n",
       "      <td>4.0</td>\n",
       "      <td>1.000949</td>\n",
       "      <td>0.000000</td>\n",
       "    </tr>\n",
       "    <tr>\n",
       "      <th>2016-04-05</th>\n",
       "      <td>4.0</td>\n",
       "      <td>1.000085</td>\n",
       "      <td>-0.000863</td>\n",
       "    </tr>\n",
       "    <tr>\n",
       "      <th>2016-04-06</th>\n",
       "      <td>4.0</td>\n",
       "      <td>1.000690</td>\n",
       "      <td>0.000605</td>\n",
       "    </tr>\n",
       "    <tr>\n",
       "      <th>...</th>\n",
       "      <td>...</td>\n",
       "      <td>...</td>\n",
       "      <td>...</td>\n",
       "    </tr>\n",
       "    <tr>\n",
       "      <th>2022-08-31</th>\n",
       "      <td>0.0</td>\n",
       "      <td>1.575910</td>\n",
       "      <td>-0.009494</td>\n",
       "    </tr>\n",
       "    <tr>\n",
       "      <th>2022-09-01</th>\n",
       "      <td>0.0</td>\n",
       "      <td>1.559964</td>\n",
       "      <td>-0.010119</td>\n",
       "    </tr>\n",
       "    <tr>\n",
       "      <th>2022-09-02</th>\n",
       "      <td>0.0</td>\n",
       "      <td>1.547668</td>\n",
       "      <td>-0.007882</td>\n",
       "    </tr>\n",
       "    <tr>\n",
       "      <th>2022-09-03</th>\n",
       "      <td>0.0</td>\n",
       "      <td>1.531070</td>\n",
       "      <td>-0.010725</td>\n",
       "    </tr>\n",
       "    <tr>\n",
       "      <th>2022-09-04</th>\n",
       "      <td>0.0</td>\n",
       "      <td>1.531070</td>\n",
       "      <td>0.000000</td>\n",
       "    </tr>\n",
       "  </tbody>\n",
       "</table>\n",
       "<p>2347 rows × 3 columns</p>\n",
       "</div>"
      ],
      "text/plain": [
       "            REGIME  Strategy      rtns\n",
       "2016-04-02     4.0  1.000949  0.000949\n",
       "2016-04-03     4.0  1.000949  0.000000\n",
       "2016-04-04     4.0  1.000949  0.000000\n",
       "2016-04-05     4.0  1.000085 -0.000863\n",
       "2016-04-06     4.0  1.000690  0.000605\n",
       "...            ...       ...       ...\n",
       "2022-08-31     0.0  1.575910 -0.009494\n",
       "2022-09-01     0.0  1.559964 -0.010119\n",
       "2022-09-02     0.0  1.547668 -0.007882\n",
       "2022-09-03     0.0  1.531070 -0.010725\n",
       "2022-09-04     0.0  1.531070  0.000000\n",
       "\n",
       "[2347 rows x 3 columns]"
      ]
     },
     "execution_count": 200,
     "metadata": {},
     "output_type": "execute_result"
    }
   ],
   "source": [
    "date_df = pd.DataFrame(0,index=pd.date_range(start=min_date, end=max_date).date, columns=['0'])\n",
    "date_regimes = date_df.join(regimes).backfill()\n",
    "combined_df = date_regimes.dropna(axis=0).join(strat_df)[['REGIME','Strategy']]\n",
    "combined_df['Strategy'] = combined_df['Strategy']/combined_df['Strategy'][0]\n",
    "combined_df['rtns'] = combined_df['Strategy'].pct_change()\n",
    "combined_df = combined_df.dropna(axis=0, how='any')\n",
    "combined_df"
   ]
  },
  {
   "cell_type": "code",
   "execution_count": 211,
   "metadata": {},
   "outputs": [
    {
     "data": {
      "text/html": [
       "<div>\n",
       "<style scoped>\n",
       "    .dataframe tbody tr th:only-of-type {\n",
       "        vertical-align: middle;\n",
       "    }\n",
       "\n",
       "    .dataframe tbody tr th {\n",
       "        vertical-align: top;\n",
       "    }\n",
       "\n",
       "    .dataframe thead th {\n",
       "        text-align: right;\n",
       "    }\n",
       "</style>\n",
       "<table border=\"1\" class=\"dataframe\">\n",
       "  <thead>\n",
       "    <tr style=\"text-align: right;\">\n",
       "      <th></th>\n",
       "      <th>Regime</th>\n",
       "      <th>Annual_Returns</th>\n",
       "      <th>P_Value</th>\n",
       "    </tr>\n",
       "  </thead>\n",
       "  <tbody>\n",
       "    <tr>\n",
       "      <th>0</th>\n",
       "      <td>0</td>\n",
       "      <td>-0.045700</td>\n",
       "      <td>0.709924</td>\n",
       "    </tr>\n",
       "    <tr>\n",
       "      <th>1</th>\n",
       "      <td>1</td>\n",
       "      <td>-0.500979</td>\n",
       "      <td>0.002703</td>\n",
       "    </tr>\n",
       "    <tr>\n",
       "      <th>2</th>\n",
       "      <td>2</td>\n",
       "      <td>0.115056</td>\n",
       "      <td>0.834162</td>\n",
       "    </tr>\n",
       "    <tr>\n",
       "      <th>3</th>\n",
       "      <td>3</td>\n",
       "      <td>0.348794</td>\n",
       "      <td>0.545120</td>\n",
       "    </tr>\n",
       "    <tr>\n",
       "      <th>4</th>\n",
       "      <td>4</td>\n",
       "      <td>0.339136</td>\n",
       "      <td>0.101458</td>\n",
       "    </tr>\n",
       "    <tr>\n",
       "      <th>5</th>\n",
       "      <td>5</td>\n",
       "      <td>0.125930</td>\n",
       "      <td>0.739844</td>\n",
       "    </tr>\n",
       "    <tr>\n",
       "      <th>6</th>\n",
       "      <td>6</td>\n",
       "      <td>0.246512</td>\n",
       "      <td>0.366484</td>\n",
       "    </tr>\n",
       "    <tr>\n",
       "      <th>7</th>\n",
       "      <td>7</td>\n",
       "      <td>-0.104159</td>\n",
       "      <td>0.261581</td>\n",
       "    </tr>\n",
       "  </tbody>\n",
       "</table>\n",
       "</div>"
      ],
      "text/plain": [
       "  Regime  Annual_Returns   P_Value\n",
       "0      0       -0.045700  0.709924\n",
       "1      1       -0.500979  0.002703\n",
       "2      2        0.115056  0.834162\n",
       "3      3        0.348794  0.545120\n",
       "4      4        0.339136  0.101458\n",
       "5      5        0.125930  0.739844\n",
       "6      6        0.246512  0.366484\n",
       "7      7       -0.104159  0.261581"
      ]
     },
     "execution_count": 211,
     "metadata": {},
     "output_type": "execute_result"
    }
   ],
   "source": [
    "import plistlib\n",
    "from scipy import stats as stats\n",
    "\n",
    "regime_list = []\n",
    "ann_rts_list = []\n",
    "p_list = []\n",
    "\n",
    "for regime in sorted(combined_df.REGIME.unique()):\n",
    "    rtns = combined_df[combined_df.REGIME == regime]['rtns']\n",
    "    mean_rtns = rtns.mean()\n",
    "    count = rtns.count()\n",
    "    # print(mean_rtns, count)\n",
    "\n",
    "    # T_Test\n",
    "    # H0 : no statistically significant difference between the total returns and returns in individual regimes\n",
    "    a = combined_df['rtns'].to_numpy()\n",
    "    b = combined_df[combined_df.REGIME == regime]['rtns'].to_numpy()\n",
    "    p = stats.ttest_ind(a,b,equal_var=True)[1]\n",
    "    \n",
    "    # Annualized returns\n",
    "    ann_rtns = (1 + mean_rtns)**252 - 1\n",
    "\n",
    "    # Append to lists to create dataframe\n",
    "    regime_list.append(f'{regime:.0f}')\n",
    "    ann_rts_list.append(ann_rtns)\n",
    "    p_list.append(p)\n",
    "\n",
    "regime_results = pd.DataFrame({'Regime':regime_list,'Annual_Returns':ann_rts_list,'P_Value':p_list})\n",
    "regime_results"
   ]
  },
  {
   "cell_type": "code",
   "execution_count": 206,
   "metadata": {},
   "outputs": [],
   "source": [
    "a = combined_df['rtns'].to_numpy()\n",
    "b = combined_df[combined_df['REGIME'] == 1]['rtns'].to_numpy()"
   ]
  },
  {
   "cell_type": "code",
   "execution_count": 209,
   "metadata": {},
   "outputs": [
    {
     "data": {
      "text/plain": [
       "0.0027033379094120475"
      ]
     },
     "execution_count": 209,
     "metadata": {},
     "output_type": "execute_result"
    }
   ],
   "source": [
    "stats.ttest_ind(a,b,equal_var=True)[1]"
   ]
  },
  {
   "cell_type": "code",
   "execution_count": 201,
   "metadata": {},
   "outputs": [
    {
     "data": {
      "text/html": [
       "<div>\n",
       "<style scoped>\n",
       "    .dataframe tbody tr th:only-of-type {\n",
       "        vertical-align: middle;\n",
       "    }\n",
       "\n",
       "    .dataframe tbody tr th {\n",
       "        vertical-align: top;\n",
       "    }\n",
       "\n",
       "    .dataframe thead th {\n",
       "        text-align: right;\n",
       "    }\n",
       "</style>\n",
       "<table border=\"1\" class=\"dataframe\">\n",
       "  <thead>\n",
       "    <tr style=\"text-align: right;\">\n",
       "      <th></th>\n",
       "      <th>REGIME</th>\n",
       "      <th>Strategy</th>\n",
       "      <th>rtns</th>\n",
       "    </tr>\n",
       "  </thead>\n",
       "  <tbody>\n",
       "    <tr>\n",
       "      <th>2016-04-02</th>\n",
       "      <td>4.0</td>\n",
       "      <td>1.000949</td>\n",
       "      <td>0.000949</td>\n",
       "    </tr>\n",
       "    <tr>\n",
       "      <th>2016-04-03</th>\n",
       "      <td>4.0</td>\n",
       "      <td>1.000949</td>\n",
       "      <td>0.000000</td>\n",
       "    </tr>\n",
       "    <tr>\n",
       "      <th>2016-04-04</th>\n",
       "      <td>4.0</td>\n",
       "      <td>1.000949</td>\n",
       "      <td>0.000000</td>\n",
       "    </tr>\n",
       "    <tr>\n",
       "      <th>2016-04-05</th>\n",
       "      <td>4.0</td>\n",
       "      <td>1.000085</td>\n",
       "      <td>-0.000863</td>\n",
       "    </tr>\n",
       "    <tr>\n",
       "      <th>2016-04-06</th>\n",
       "      <td>4.0</td>\n",
       "      <td>1.000690</td>\n",
       "      <td>0.000605</td>\n",
       "    </tr>\n",
       "    <tr>\n",
       "      <th>...</th>\n",
       "      <td>...</td>\n",
       "      <td>...</td>\n",
       "      <td>...</td>\n",
       "    </tr>\n",
       "    <tr>\n",
       "      <th>2022-08-31</th>\n",
       "      <td>0.0</td>\n",
       "      <td>1.575910</td>\n",
       "      <td>-0.009494</td>\n",
       "    </tr>\n",
       "    <tr>\n",
       "      <th>2022-09-01</th>\n",
       "      <td>0.0</td>\n",
       "      <td>1.559964</td>\n",
       "      <td>-0.010119</td>\n",
       "    </tr>\n",
       "    <tr>\n",
       "      <th>2022-09-02</th>\n",
       "      <td>0.0</td>\n",
       "      <td>1.547668</td>\n",
       "      <td>-0.007882</td>\n",
       "    </tr>\n",
       "    <tr>\n",
       "      <th>2022-09-03</th>\n",
       "      <td>0.0</td>\n",
       "      <td>1.531070</td>\n",
       "      <td>-0.010725</td>\n",
       "    </tr>\n",
       "    <tr>\n",
       "      <th>2022-09-04</th>\n",
       "      <td>0.0</td>\n",
       "      <td>1.531070</td>\n",
       "      <td>0.000000</td>\n",
       "    </tr>\n",
       "  </tbody>\n",
       "</table>\n",
       "<p>2347 rows × 3 columns</p>\n",
       "</div>"
      ],
      "text/plain": [
       "            REGIME  Strategy      rtns\n",
       "2016-04-02     4.0  1.000949  0.000949\n",
       "2016-04-03     4.0  1.000949  0.000000\n",
       "2016-04-04     4.0  1.000949  0.000000\n",
       "2016-04-05     4.0  1.000085 -0.000863\n",
       "2016-04-06     4.0  1.000690  0.000605\n",
       "...            ...       ...       ...\n",
       "2022-08-31     0.0  1.575910 -0.009494\n",
       "2022-09-01     0.0  1.559964 -0.010119\n",
       "2022-09-02     0.0  1.547668 -0.007882\n",
       "2022-09-03     0.0  1.531070 -0.010725\n",
       "2022-09-04     0.0  1.531070  0.000000\n",
       "\n",
       "[2347 rows x 3 columns]"
      ]
     },
     "execution_count": 201,
     "metadata": {},
     "output_type": "execute_result"
    }
   ],
   "source": [
    "combined_df"
   ]
  },
  {
   "cell_type": "code",
   "execution_count": 178,
   "metadata": {},
   "outputs": [
    {
     "data": {
      "image/png": "[encoded data removed]",
      "text/plain": [
       "<Figure size 432x288 with 2 Axes>"
      ]
     },
     "metadata": {
      "needs_background": "light"
     },
     "output_type": "display_data"
    }
   ],
   "source": [
    "results_df = combined_df.rename(columns={'REGIME':'Regime','Strategy':'Cumulative Returns'})\n",
    "results_df[['Regime','Cumulative Returns']].plot()\n",
    "plt.ylabel('(shared) Regime/Cumulative Returns')\n",
    "plt.xlabel('Datetime')\n",
    "ax = results_df['rtns'].plot(secondary_y=True, label = 'Daily Returns')\n",
    "plt.legend(['Daily Returns'])\n",
    "plt.ylabel('Daily Returns')\n",
    "plt.title('Graph to show Regime, Cumulative Returns and Daily returns')\n",
    "plt.show()"
   ]
  }
 ],
 "metadata": {
  "kernelspec": {
   "display_name": "Python 3.9.12 ('base')",
   "language": "python",
   "name": "python3"
  },
  "language_info": {
   "codemirror_mode": {
    "name": "ipython",
    "version": 3
   },
   "file_extension": ".py",
   "mimetype": "text/x-python",
   "name": "python",
   "nbconvert_exporter": "python",
   "pygments_lexer": "ipython3",
   "version": "3.9.12"
  },
  "orig_nbformat": 4,
  "vscode": {
   "interpreter": {
    "hash": "7410a5e499f6a10598262dc270940457c2faf862a16f20eb6138ada7e2acd9a0"
   }
  }
 },
 "nbformat": 4,
 "nbformat_minor": 2
}
